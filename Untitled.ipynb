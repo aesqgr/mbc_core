{
 "cells": [
  {
   "cell_type": "code",
   "execution_count": 2,
   "id": "10dadc4b",
   "metadata": {},
   "outputs": [],
   "source": [
    "import pymongo\n",
    "client = client = pymongo.MongoClient(\"mongodb://localhost:27017/\")\n",
    "db = client[\"bcn_dataset\"]\n",
    "population = db[\"population\"]\n",
    "import matplotlib.pyplot as plt\n",
    "import seaborn as sns\n",
    "import plotly.graph_objs as go\n",
    "import plotly_express as px\n",
    "import pandas as pd"
   ]
  },
  {
   "cell_type": "code",
   "execution_count": 39,
   "id": "6c641457",
   "metadata": {},
   "outputs": [
    {
     "data": {
      "text/plain": [
       "{'population': 44606}"
      ]
     },
     "execution_count": 39,
     "metadata": {},
     "output_type": "execute_result"
    }
   ],
   "source": [
    "todo = list(population.find({}))[:10]\n",
    "\n",
    "unique_distric = list(population.find({}).distinct(\"District.Name\"))\n",
    "barrios = list(population.find({},{\"District.Name\":1,\"Neighborhood.Name\":1,\"Gender\":1,\"Age\":1,\"Number\":1, \"_id\":0}))\n",
    "\n",
    "barri = [{\"District\": barrio[\"District\"][\"Name\"],\"Neighborhood\": barrio[\"Neighborhood\"][\"Name\"],\"Age\":barrio[\"Age\"],\"Gender\":barrio[\"Gender\"],\"Number\":barrio[\"Number\"] } for barrio in barrios]\n",
    "\n",
    "df = pd.DataFrame.from_dict(barri)\n",
    "\n",
    "test = df.groupby([\"District\",\"Neighborhood\"]).sum()\n",
    "unique_distric\n",
    "\n",
    "\n",
    "ejemplo = {\"population\" : int(test.groupby(\"Neighborhood\").sum().to_dict()[\"Number\"][\"Can Baró\"])}\n",
    "ejemplo"
   ]
  }
 ],
 "metadata": {
  "kernelspec": {
   "display_name": "Python 3",
   "language": "python",
   "name": "python3"
  },
  "language_info": {
   "codemirror_mode": {
    "name": "ipython",
    "version": 3
   },
   "file_extension": ".py",
   "mimetype": "text/x-python",
   "name": "python",
   "nbconvert_exporter": "python",
   "pygments_lexer": "ipython3",
   "version": "3.9.1"
  }
 },
 "nbformat": 4,
 "nbformat_minor": 5
}
